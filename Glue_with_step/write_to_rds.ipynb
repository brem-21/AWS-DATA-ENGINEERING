{
 "cells": [
  {
   "cell_type": "code",
   "execution_count": 1,
   "metadata": {},
   "outputs": [],
   "source": [
    "#importing libraries\n",
    "import pandas as pd\n",
    "import mysql.connector\n",
    "from mysql.connector import Error"
   ]
  },
  {
   "cell_type": "code",
   "execution_count": 2,
   "metadata": {},
   "outputs": [
    {
     "name": "stdout",
     "output_type": "stream",
     "text": [
      "Data loaded successfully\n"
     ]
    }
   ],
   "source": [
    "#importing data from source\n",
    "try:\n",
    "    apartments = pd.read_csv('data/apartments.csv')\n",
    "    bookings = pd.read_csv('data/bookings.csv')\n",
    "    user_viewing = pd.read_csv('data/user_viewing.csv')\n",
    "    apartment_attributes = pd.read_csv('data/apartment_attributes.csv')\n",
    "except FileNotFoundError: # Error message if data is not found\n",
    "    print('File not found')\n",
    "else:\n",
    "    print(\"Data loaded successfully\")"
   ]
  },
  {
   "cell_type": "code",
   "execution_count": 3,
   "metadata": {},
   "outputs": [
    {
     "name": "stdout",
     "output_type": "stream",
     "text": [
      "<class 'pandas.core.frame.DataFrame'>\n",
      "RangeIndex: 200000 entries, 0 to 199999\n",
      "Data columns (total 8 columns):\n",
      " #   Column                   Non-Null Count   Dtype  \n",
      "---  ------                   --------------   -----  \n",
      " 0   id                       200000 non-null  int64  \n",
      " 1   title                    200000 non-null  object \n",
      " 2   source                   200000 non-null  object \n",
      " 3   price                    200000 non-null  float64\n",
      " 4   currency                 200000 non-null  object \n",
      " 5   listing_created_on       200000 non-null  object \n",
      " 6   is_active                200000 non-null  bool   \n",
      " 7   last_modified_timestamp  200000 non-null  object \n",
      "dtypes: bool(1), float64(1), int64(1), object(5)\n",
      "memory usage: 10.9+ MB\n"
     ]
    }
   ],
   "source": [
    "#checking the data quality\n",
    "apartments.info()"
   ]
  },
  {
   "cell_type": "code",
   "execution_count": 4,
   "metadata": {},
   "outputs": [
    {
     "name": "stdout",
     "output_type": "stream",
     "text": [
      "<class 'pandas.core.frame.DataFrame'>\n",
      "RangeIndex: 500000 entries, 0 to 499999\n",
      "Data columns (total 9 columns):\n",
      " #   Column          Non-Null Count   Dtype  \n",
      "---  ------          --------------   -----  \n",
      " 0   booking_id      500000 non-null  int64  \n",
      " 1   user_id         500000 non-null  int64  \n",
      " 2   apartment_id    500000 non-null  int64  \n",
      " 3   booking_date    500000 non-null  object \n",
      " 4   checkin_date    500000 non-null  object \n",
      " 5   checkout_date   500000 non-null  object \n",
      " 6   total_price     500000 non-null  float64\n",
      " 7   currency        500000 non-null  object \n",
      " 8   booking_status  500000 non-null  object \n",
      "dtypes: float64(1), int64(3), object(5)\n",
      "memory usage: 34.3+ MB\n"
     ]
    }
   ],
   "source": [
    "#checking the data quality\n",
    "bookings.info()"
   ]
  },
  {
   "cell_type": "code",
   "execution_count": 5,
   "metadata": {},
   "outputs": [
    {
     "name": "stdout",
     "output_type": "stream",
     "text": [
      "<class 'pandas.core.frame.DataFrame'>\n",
      "RangeIndex: 300000 entries, 0 to 299999\n",
      "Data columns (total 5 columns):\n",
      " #   Column          Non-Null Count   Dtype \n",
      "---  ------          --------------   ----- \n",
      " 0   user_id         300000 non-null  int64 \n",
      " 1   apartment_id    300000 non-null  int64 \n",
      " 2   viewed_at       300000 non-null  object\n",
      " 3   is_wishlisted   300000 non-null  bool  \n",
      " 4   call_to_action  300000 non-null  object\n",
      "dtypes: bool(1), int64(2), object(2)\n",
      "memory usage: 9.4+ MB\n"
     ]
    }
   ],
   "source": [
    "#checking the data quality\n",
    "user_viewing.info()"
   ]
  },
  {
   "cell_type": "code",
   "execution_count": 6,
   "metadata": {},
   "outputs": [
    {
     "name": "stdout",
     "output_type": "stream",
     "text": [
      "<class 'pandas.core.frame.DataFrame'>\n",
      "RangeIndex: 200000 entries, 0 to 199999\n",
      "Data columns (total 17 columns):\n",
      " #   Column         Non-Null Count   Dtype  \n",
      "---  ------         --------------   -----  \n",
      " 0   id             200000 non-null  int64  \n",
      " 1   category       200000 non-null  object \n",
      " 2   body           200000 non-null  object \n",
      " 3   amenities      200000 non-null  object \n",
      " 4   bathrooms      200000 non-null  int64  \n",
      " 5   bedrooms       200000 non-null  int64  \n",
      " 6   fee            200000 non-null  float64\n",
      " 7   has_photo      200000 non-null  bool   \n",
      " 8   pets_allowed   70956 non-null   object \n",
      " 9   price_display  200000 non-null  object \n",
      " 10  price_type     200000 non-null  object \n",
      " 11  square_feet    200000 non-null  int64  \n",
      " 12  address        200000 non-null  object \n",
      " 13  cityname       200000 non-null  object \n",
      " 14  state          200000 non-null  object \n",
      " 15  latitude       200000 non-null  float64\n",
      " 16  longitude      200000 non-null  float64\n",
      "dtypes: bool(1), float64(3), int64(4), object(9)\n",
      "memory usage: 24.6+ MB\n"
     ]
    }
   ],
   "source": [
    "#checking the data quality\n",
    "apartment_attributes.info()"
   ]
  },
  {
   "cell_type": "code",
   "execution_count": 7,
   "metadata": {},
   "outputs": [
    {
     "name": "stdout",
     "output_type": "stream",
     "text": [
      "id                         0\n",
      "title                      0\n",
      "source                     0\n",
      "price                      0\n",
      "currency                   0\n",
      "listing_created_on         0\n",
      "is_active                  0\n",
      "last_modified_timestamp    0\n",
      "dtype: int64\n"
     ]
    }
   ],
   "source": [
    "#checking the data quality\n",
    "def find_missing_values(df):\n",
    "    missing_values = df.isnull().sum()\n",
    "    return missing_values\n",
    "\n",
    "\n",
    "missing_values = find_missing_values(apartments)\n",
    "print(missing_values)"
   ]
  },
  {
   "cell_type": "code",
   "execution_count": 9,
   "metadata": {},
   "outputs": [
    {
     "name": "stdout",
     "output_type": "stream",
     "text": [
      "booking_id        0\n",
      "user_id           0\n",
      "apartment_id      0\n",
      "booking_date      0\n",
      "checkin_date      0\n",
      "checkout_date     0\n",
      "total_price       0\n",
      "currency          0\n",
      "booking_status    0\n",
      "dtype: int64\n"
     ]
    }
   ],
   "source": [
    "missing_values = find_missing_values(bookings)\n",
    "print(missing_values)"
   ]
  },
  {
   "cell_type": "code",
   "execution_count": 10,
   "metadata": {},
   "outputs": [
    {
     "name": "stdout",
     "output_type": "stream",
     "text": [
      "user_id           0\n",
      "apartment_id      0\n",
      "viewed_at         0\n",
      "is_wishlisted     0\n",
      "call_to_action    0\n",
      "dtype: int64\n"
     ]
    }
   ],
   "source": [
    "missing_values = find_missing_values(user_viewing)\n",
    "print(missing_values)"
   ]
  },
  {
   "cell_type": "code",
   "execution_count": 11,
   "metadata": {},
   "outputs": [
    {
     "name": "stdout",
     "output_type": "stream",
     "text": [
      "id                    0\n",
      "category              0\n",
      "body                  0\n",
      "amenities             0\n",
      "bathrooms             0\n",
      "bedrooms              0\n",
      "fee                   0\n",
      "has_photo             0\n",
      "pets_allowed     129044\n",
      "price_display         0\n",
      "price_type            0\n",
      "square_feet           0\n",
      "address               0\n",
      "cityname              0\n",
      "state                 0\n",
      "latitude              0\n",
      "longitude             0\n",
      "dtype: int64\n"
     ]
    }
   ],
   "source": [
    "missing_values = find_missing_values(apartment_attributes)\n",
    "print(missing_values)"
   ]
  },
  {
   "cell_type": "code",
   "execution_count": 13,
   "metadata": {},
   "outputs": [
    {
     "name": "stdout",
     "output_type": "stream",
     "text": [
      "<class 'pandas.core.frame.DataFrame'>\n",
      "RangeIndex: 200000 entries, 0 to 199999\n",
      "Data columns (total 17 columns):\n",
      " #   Column         Non-Null Count   Dtype  \n",
      "---  ------         --------------   -----  \n",
      " 0   id             200000 non-null  int64  \n",
      " 1   category       200000 non-null  object \n",
      " 2   body           200000 non-null  object \n",
      " 3   amenities      200000 non-null  object \n",
      " 4   bathrooms      200000 non-null  int64  \n",
      " 5   bedrooms       200000 non-null  int64  \n",
      " 6   fee            200000 non-null  float64\n",
      " 7   has_photo      200000 non-null  bool   \n",
      " 8   pets_allowed   70956 non-null   object \n",
      " 9   price_display  200000 non-null  object \n",
      " 10  price_type     200000 non-null  object \n",
      " 11  square_feet    200000 non-null  int64  \n",
      " 12  address        200000 non-null  object \n",
      " 13  cityname       200000 non-null  object \n",
      " 14  state          200000 non-null  object \n",
      " 15  latitude       200000 non-null  float64\n",
      " 16  longitude      200000 non-null  float64\n",
      "dtypes: bool(1), float64(3), int64(4), object(9)\n",
      "memory usage: 24.6+ MB\n"
     ]
    }
   ],
   "source": [
    "apartment_attributes.info()"
   ]
  },
  {
   "cell_type": "code",
   "execution_count": 14,
   "metadata": {},
   "outputs": [
    {
     "name": "stdout",
     "output_type": "stream",
     "text": [
      "CREATE TABLE \"apartment_attributes\" (\n",
      "\"id\" INTEGER,\n",
      "  \"category\" TEXT,\n",
      "  \"body\" TEXT,\n",
      "  \"amenities\" TEXT,\n",
      "  \"bathrooms\" INTEGER,\n",
      "  \"bedrooms\" INTEGER,\n",
      "  \"fee\" REAL,\n",
      "  \"has_photo\" INTEGER,\n",
      "  \"pets_allowed\" INTEGER,\n",
      "  \"price_display\" TEXT,\n",
      "  \"price_type\" TEXT,\n",
      "  \"square_feet\" INTEGER,\n",
      "  \"address\" TEXT,\n",
      "  \"cityname\" TEXT,\n",
      "  \"state\" TEXT,\n",
      "  \"latitude\" REAL,\n",
      "  \"longitude\" REAL\n",
      ")\n"
     ]
    }
   ],
   "source": [
    "print(pd.io.sql.get_schema(apartment_attributes, name='apartment_attributes'))"
   ]
  },
  {
   "cell_type": "code",
   "execution_count": 15,
   "metadata": {},
   "outputs": [
    {
     "name": "stdout",
     "output_type": "stream",
     "text": [
      "CREATE TABLE \"apartments\" (\n",
      "\"id\" INTEGER,\n",
      "  \"title\" TEXT,\n",
      "  \"source\" TEXT,\n",
      "  \"price\" REAL,\n",
      "  \"currency\" TEXT,\n",
      "  \"listing_created_on\" TEXT,\n",
      "  \"is_active\" INTEGER,\n",
      "  \"last_modified_timestamp\" TEXT\n",
      ")\n"
     ]
    }
   ],
   "source": [
    "print(pd.io.sql.get_schema(apartments, name='apartments'))"
   ]
  },
  {
   "cell_type": "code",
   "execution_count": 16,
   "metadata": {},
   "outputs": [
    {
     "name": "stdout",
     "output_type": "stream",
     "text": [
      "CREATE TABLE \"bookings\" (\n",
      "\"booking_id\" INTEGER,\n",
      "  \"user_id\" INTEGER,\n",
      "  \"apartment_id\" INTEGER,\n",
      "  \"booking_date\" TEXT,\n",
      "  \"checkin_date\" TEXT,\n",
      "  \"checkout_date\" TEXT,\n",
      "  \"total_price\" REAL,\n",
      "  \"currency\" TEXT,\n",
      "  \"booking_status\" TEXT\n",
      ")\n"
     ]
    }
   ],
   "source": [
    "print(pd.io.sql.get_schema(bookings, name='bookings'))"
   ]
  },
  {
   "cell_type": "code",
   "execution_count": 17,
   "metadata": {},
   "outputs": [
    {
     "name": "stdout",
     "output_type": "stream",
     "text": [
      "CREATE TABLE \"user_viewing\" (\n",
      "\"user_id\" INTEGER,\n",
      "  \"apartment_id\" INTEGER,\n",
      "  \"viewed_at\" TEXT,\n",
      "  \"is_wishlisted\" INTEGER,\n",
      "  \"call_to_action\" TEXT\n",
      ")\n"
     ]
    }
   ],
   "source": [
    "print(pd.io.sql.get_schema(user_viewing, name='user_viewing'))"
   ]
  },
  {
   "cell_type": "code",
   "execution_count": 18,
   "metadata": {},
   "outputs": [],
   "source": [
    "from dotenv import load_dotenv\n",
    "import os\n",
    "from sqlalchemy import create_engine\n",
    "import pymysql\n",
    "import logging\n",
    "\n",
    "# Configure logging\n",
    "logging.basicConfig(level=logging.INFO)\n",
    "logger = logging.getLogger(__name__)\n",
    "\n",
    "load_dotenv() # loading the environment variables\n",
    "\n",
    "DB_HOST = os.getenv(\"DB_HOST\")\n",
    "DB_PORT = int(os.getenv(\"DB_PORT\", 3306))  # Default to 3306 if not set\n",
    "DB_USER = os.getenv(\"DB_USER\")\n",
    "DB_NAME = os.getenv(\"DB_NAME\")\n",
    "DB_PASSWORD = os.getenv(\"DB_PASS\")"
   ]
  },
  {
   "cell_type": "code",
   "execution_count": 23,
   "metadata": {},
   "outputs": [
    {
     "name": "stderr",
     "output_type": "stream",
     "text": [
      "INFO:mysql.connector:package: mysql.connector.plugins\n",
      "INFO:mysql.connector:plugin_name: mysql_native_password\n",
      "INFO:mysql.connector:AUTHENTICATION_PLUGIN_CLASS: MySQLNativePasswordAuthPlugin\n",
      "INFO:__main__:Database `real_estate` checked/created.\n"
     ]
    }
   ],
   "source": [
    "try:\n",
    "    conn = mysql.connector.connect(\n",
    "        host=DB_HOST,\n",
    "        user=DB_USER,\n",
    "        password=DB_PASSWORD\n",
    "    )\n",
    "    cursor = conn.cursor()\n",
    "    cursor.execute(f\"CREATE DATABASE IF NOT EXISTS {DB_NAME}\")\n",
    "    logger.info(f\"Database `{DB_NAME}` checked/created.\")\n",
    "    cursor.close()\n",
    "    conn.close()\n",
    "except mysql.connector.Error as err:\n",
    "    logger.error(f\"Error creating database: {err}\")"
   ]
  },
  {
   "cell_type": "code",
   "execution_count": 24,
   "metadata": {},
   "outputs": [
    {
     "name": "stdout",
     "output_type": "stream",
     "text": [
      "Connection to database successful\n"
     ]
    }
   ],
   "source": [
    "#Connecting to database\n",
    "import mysql.connector\n",
    "try:\n",
    "    engine = create_engine(f\"mysql+pymysql://{DB_USER}:{DB_PASSWORD}@{DB_HOST}:{DB_PORT}/{DB_NAME}\")\n",
    "except Exception as e:\n",
    "    print(f\"Error while connecting to database: {e}\")\n",
    "else:\n",
    "    print(\"Connection to database successful\")"
   ]
  },
  {
   "cell_type": "code",
   "execution_count": 25,
   "metadata": {},
   "outputs": [],
   "source": [
    "# Function toCreate table schema\n",
    "def create_table_schema(df, table_name, engine):\n",
    "    \"\"\"Create or replace table schema in the database.\"\"\"\n",
    "    try:\n",
    "        df.head(0).to_sql(table_name, con=engine, if_exists='replace', index=False)\n",
    "        logger.info(f\"Schema for {table_name} created.\")\n",
    "    except Exception as e:\n",
    "        logger.error(f\"Error creating schema for {table_name}: {e}\")"
   ]
  },
  {
   "cell_type": "code",
   "execution_count": 26,
   "metadata": {},
   "outputs": [],
   "source": [
    "# Function to Load data into the database\n",
    "def insert_data_in_chunks(df, table_name, engine, chunk_size=1000):\n",
    "    \"\"\"Insert data into a table in chunks.\"\"\"\n",
    "    try:\n",
    "        for i in range(0, len(df), chunk_size):\n",
    "            df.iloc[i:i+chunk_size].to_sql(table_name, con=engine, if_exists='append', index=False)\n",
    "            logger.info(f\"Inserted {i + chunk_size} rows into {table_name}\")\n",
    "    except Exception as e:\n",
    "        logger.error(f\"Error inserting data into {table_name}: {e}\")"
   ]
  },
  {
   "cell_type": "code",
   "execution_count": null,
   "metadata": {},
   "outputs": [
    {
     "name": "stderr",
     "output_type": "stream",
     "text": [
      "INFO:__main__:Schema for apartments created.\n",
      "INFO:__main__:Inserted 1000 rows into apartments\n",
      "INFO:__main__:Inserted 2000 rows into apartments\n",
      "INFO:__main__:Inserted 3000 rows into apartments\n",
      "INFO:__main__:Inserted 4000 rows into apartments\n",
      "INFO:__main__:Inserted 5000 rows into apartments\n",
      "INFO:__main__:Inserted 6000 rows into apartments\n",
      "INFO:__main__:Inserted 7000 rows into apartments\n",
      "INFO:__main__:Inserted 8000 rows into apartments\n",
      "INFO:__main__:Inserted 9000 rows into apartments\n",
      "INFO:__main__:Inserted 10000 rows into apartments\n",
      "INFO:__main__:Inserted 11000 rows into apartments\n",
      "INFO:__main__:Inserted 12000 rows into apartments\n",
      "INFO:__main__:Inserted 13000 rows into apartments\n",
      "INFO:__main__:Inserted 14000 rows into apartments\n",
      "INFO:__main__:Inserted 15000 rows into apartments\n",
      "INFO:__main__:Inserted 16000 rows into apartments\n",
      "INFO:__main__:Inserted 17000 rows into apartments\n",
      "INFO:__main__:Inserted 18000 rows into apartments\n",
      "INFO:__main__:Inserted 19000 rows into apartments\n",
      "INFO:__main__:Inserted 20000 rows into apartments\n",
      "INFO:__main__:Inserted 21000 rows into apartments\n",
      "INFO:__main__:Inserted 22000 rows into apartments\n",
      "INFO:__main__:Inserted 23000 rows into apartments\n"
     ]
    }
   ],
   "source": [
    "# Create tables and insert data\n",
    "if engine:\n",
    "    # Manually input each table\n",
    "    tables = {\n",
    "        \"apartments\": apartments,  \n",
    "        \"bookings\": bookings,  \n",
    "        \"apartments_attributes\": apartment_attributes,  \n",
    "        \"user_viewing\": user_viewing  \n",
    "    }\n",
    "\n",
    "    for table_name, df in tables.items():\n",
    "        create_table_schema(df, table_name, engine)\n",
    "        insert_data_in_chunks(df, table_name, engine)\n"
   ]
  },
  {
   "cell_type": "code",
   "execution_count": null,
   "metadata": {},
   "outputs": [],
   "source": []
  }
 ],
 "metadata": {
  "kernelspec": {
   "display_name": ".venv",
   "language": "python",
   "name": "python3"
  },
  "language_info": {
   "codemirror_mode": {
    "name": "ipython",
    "version": 3
   },
   "file_extension": ".py",
   "mimetype": "text/x-python",
   "name": "python",
   "nbconvert_exporter": "python",
   "pygments_lexer": "ipython3",
   "version": "3.12.3"
  }
 },
 "nbformat": 4,
 "nbformat_minor": 2
}
